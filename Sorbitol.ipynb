{
  "nbformat": 4,
  "nbformat_minor": 0,
  "metadata": {
    "colab": {
      "name": "Protein_Design_Project",
      "provenance": [],
      "collapsed_sections": []
    },
    "kernelspec": {
      "name": "python3",
      "display_name": "Python 3"
    },
    "language_info": {
      "name": "python"
    }
  },
  "cells": [
    {
      "cell_type": "markdown",
      "metadata": {
        "id": "XyZUSqUSBn05"
      },
      "source": [
        "#**0. Before You Start:**"
      ]
    },
    {
      "cell_type": "markdown",
      "metadata": {
        "id": "f6ZwcoNVRi4X"
      },
      "source": [
        "1. File -> Save a copy in Drive\n",
        "2. Rename the file to \"LastName_FirstName_PyRosetta_Tutorial.ipynb\" (replacing with your name)\n",
        "3. Make sure you are running Python 3 by clicking \"Runtime\" -> \"Change runtime type\" -> \"Python 3\"\n",
        "  *   If no option for Python 3 comes up, you are probably running it correctly.\n",
        "  *   Hover over the Ram and Disk bar graphs in the top right corner next to \"Editing\" and you should see:\n",
        "  \n",
        "    \"Connected to Python 3...\"\n",
        "\n",
        "  *   If there are no Ram and Disk bar graphs in the top right corner next to \"Editing\", click the \"Connect\" button that is there instead. Then repeat the previous \"Hover...\" step.\n",
        "\n",
        "\n",
        "\n",
        "\n",
        "\n",
        "**Tip:**\n",
        "\n",
        "When you use this template for the Protein Design Project, I recommend copying your completed \"LastName_FirstName_PyRosetta_Tutorial.ipynb\" file and saving the original as a reference in case something goes wrong with the new one.\n",
        "\n",
        "**Now you can start the Tutorial!**\n",
        "\n",
        "\n",
        "---\n",
        "\n"
      ]
    },
    {
      "cell_type": "markdown",
      "metadata": {
        "id": "ObIikqXDSr01"
      },
      "source": [
        "# **1. Set Up PyRosetta:**\n",
        "\n",
        "Here, you'll learn to:\n",
        "*   **Mount** the Drive to Colaboratory\n",
        "*   **Download** the PyRosetta zip file\n",
        "*   **Unzip** PyRosetta\n",
        "*   **Install** PyRosetta\n"
      ]
    },
    {
      "cell_type": "markdown",
      "metadata": {
        "id": "4ds9aeR_BZpr"
      },
      "source": [
        "####**1.1. Mount Google Drive**\n",
        "  Run Code Block #1.1.\n",
        "\n",
        "  ***First time through***: Mount Google drive to avoid having to re-download the PyRosetta package. Mount before you download PyRosetta. \n",
        "\n",
        "  ***Later uses of the notebook***: In the event you disconnect from Colab after the first download, you can mount to your Google drive again and skip the the download step (Code Block #1.2).\n"
      ]
    },
    {
      "cell_type": "code",
      "metadata": {
        "id": "0WLpIP7zDSdF",
        "colab": {
          "base_uri": "https://localhost:8080/"
        },
        "outputId": "8e81f715-9d68-4839-ae59-a3a7a8a0c524"
      },
      "source": [
        "# Code Block #1.1: Mount your Drive\n",
        "\n",
        "from google.colab import drive\n",
        "drive.mount('/content/drive')"
      ],
      "execution_count": null,
      "outputs": [
        {
          "output_type": "stream",
          "name": "stdout",
          "text": [
            "Drive already mounted at /content/drive; to attempt to forcibly remount, call drive.mount(\"/content/drive\", force_remount=True).\n"
          ]
        }
      ]
    },
    {
      "cell_type": "markdown",
      "metadata": {
        "id": "2AaOFZlsT6ki"
      },
      "source": [
        "####**1.2.  Download PyRosetta bz2 file**\n",
        "\n",
        "  Run Code Block #1.2.\n",
        "\n",
        "  The code accesses the PyRosetta archive from the Gray Lab and saves a zipped file to your Drive's \"Colab Notebooks\" folder.\n",
        "  \n",
        "  This download took my computer ~15 mins.\n",
        "\n",
        "  **You only have to do this once!** Skip this step after you've downloaded it once and mounted to the Google Drive.\n",
        "\n",
        "  The output for a successfully downloaded file will contain text roughly like this: \n",
        "    \n",
        "    \"PyRosetta4.Release. 100%[===================>]   1.37G  1.75MB/s    in 14m 58s\"\n",
        "\n",
        "  NOTE: If this says \"Done!\" without downloading the bz2 file, then the version of the file (e.g. \"...release-295.tar.bz2\") might be deprecated. \n",
        "In that case, go to https://graylab.jhu.edu/download/PyRosetta4/archive/release/PyRosetta4.Release.python37.ubuntu/ \n",
        "  and change \"...release-295.tar.bz2\" in this code and Code Block #3 to the most updated version number (e.g., \"295\" changes to \"296\"). (Version updated 9/4/21)\n",
        "\n"
      ]
    },
    {
      "cell_type": "code",
      "metadata": {
        "id": "pglxL5kjaQsk",
        "colab": {
          "base_uri": "https://localhost:8080/"
        },
        "outputId": "cdd0d619-7f17-484f-a1ea-678770afbd94"
      },
      "source": [
        "# Code Block #1.2: Download the PyRosetta bz2 file\n",
        "\n",
        "!wget --user=levinthal --password=paradox https://graylab.jhu.edu/download/PyRosetta4/archive/release/PyRosetta4.Release.python37.ubuntu/PyRosetta4.Release.python37.ubuntu.release-295.tar.bz2 -P '/content/drive/My Drive/Colab Notebooks'\n",
        "print('Done!')"
      ],
      "execution_count": null,
      "outputs": [
        {
          "output_type": "stream",
          "name": "stdout",
          "text": [
            "--2021-10-12 19:01:48--  https://graylab.jhu.edu/download/PyRosetta4/archive/release/PyRosetta4.Release.python37.ubuntu/PyRosetta4.Release.python37.ubuntu.release-295.tar.bz2\n",
            "Resolving graylab.jhu.edu (graylab.jhu.edu)... 128.220.253.192\n",
            "Connecting to graylab.jhu.edu (graylab.jhu.edu)|128.220.253.192|:443... connected.\n",
            "HTTP request sent, awaiting response... 401 Unauthorized\n",
            "Authentication selected: Basic realm=\"PyRosetta Download\"\n",
            "Reusing existing connection to graylab.jhu.edu:443.\n",
            "HTTP request sent, awaiting response... 200 OK\n",
            "Length: 1468958025 (1.4G) [application/x-bzip2]\n",
            "Saving to: ‘/content/drive/My Drive/Colab Notebooks/PyRosetta4.Release.python37.ubuntu.release-295.tar.bz2’\n",
            "\n",
            "PyRosetta4.Release. 100%[===================>]   1.37G  13.5MB/s    in 2m 32s  \n",
            "\n",
            "2021-10-12 19:04:20 (9.24 MB/s) - ‘/content/drive/My Drive/Colab Notebooks/PyRosetta4.Release.python37.ubuntu.release-295.tar.bz2’ saved [1468958025/1468958025]\n",
            "\n",
            "Done!\n"
          ]
        }
      ]
    },
    {
      "cell_type": "markdown",
      "metadata": {
        "id": "jWtcisnhVE7M"
      },
      "source": [
        "####**1.3. Unzip compressed PyRosetta file**\n",
        "\n",
        "  Run Code Block #1.3.\n",
        "\n",
        "  The code unzips the bz2 file and saves it to the \"content\" folder in Colaboratory.\n",
        "  \n",
        "  (This might take 2 to 5 minutes.)\n",
        "\n",
        "  If the code says \"no such file\", right click on and copy the path of the bz2 file. Replace the path in the quotation marks between -xvjf and -C and rerun.\n",
        "\n",
        "  You have to do this step every time the runtime disconnects, unfortunately. Upon disconnection, Colab clears any content you've added outside of your Drive. If you can find a work around that uses Colab and avoids unzipping and installing every time, let the TAs know!\n",
        "\n"
      ]
    },
    {
      "cell_type": "code",
      "metadata": {
        "id": "JFENUmG8aRUA",
        "colab": {
          "base_uri": "https://localhost:8080/"
        },
        "outputId": "b2471b05-67ca-43cf-876d-017ed71cf0b9"
      },
      "source": [
        "# Code Block #1.3: Unzip the PyRosetta bz2 file\n",
        "\n",
        "!tar -xvjf '/content/drive/MyDrive/MIT/Biological Engineering/Coursework/Colab Notebooks/PyRosetta4.Release.python37.ubuntu.release-295.tar.bz2' -C '/content/' >/dev/null\n",
        "print('Done!')"
      ],
      "execution_count": null,
      "outputs": [
        {
          "output_type": "stream",
          "name": "stdout",
          "text": [
            "Done!\n"
          ]
        }
      ]
    },
    {
      "cell_type": "markdown",
      "metadata": {
        "id": "LD7HPxyrW1JB"
      },
      "source": [
        "####**1.4. Install PyRosetta in Colaboratory**\n",
        "\n",
        "  Run Code Block #1.4.\n",
        "\n",
        "  This code sets the working directory to the \"content\" folder.\n",
        "\n",
        "  Then it accesses the \"setup.py\" file in the unzipped PyRosetta folder and runs it to install PyRosetta.\n",
        "\n",
        "  (This may take 5 to 10 mins.)\n",
        "\n",
        "  NOTE: You may see the following warnings:\n",
        "  \n",
        "  \"fatal: Not a git repository\"\n",
        "  \n",
        "  \"/usr/local/lib/python2.7/dist-packages/setuptools/dist.py:397: UserWarning: The version specified (u'unknown') is an invalid version, this may not work as expected with newer versions of setuptools, pip, and PyPI. Please see PEP 440 for more details.\n",
        "  details.\" % self.metadata.version\"\n",
        "\n",
        "  These should not affect your install."
      ]
    },
    {
      "cell_type": "code",
      "metadata": {
        "colab": {
          "base_uri": "https://localhost:8080/"
        },
        "id": "s0AY4g2T63LI",
        "outputId": "487d1608-1ff5-4694-fd6a-7f4a4e73e612"
      },
      "source": [
        "# Code Block #1.4: Install PyRosetta\n",
        "\n",
        "import os\n",
        "os.chdir('/content/')\n",
        "print(os.getcwd())\n",
        "\n",
        "!cd PyRosetta4.Release.python37.ubuntu.release-295/setup/ && /usr/local/bin/python setup.py install >/dev/null\n",
        "print('Done!')"
      ],
      "execution_count": null,
      "outputs": [
        {
          "output_type": "stream",
          "name": "stdout",
          "text": [
            "/content\n",
            "fatal: not a git repository (or any of the parent directories): .git\n",
            "Done!\n"
          ]
        }
      ]
    },
    {
      "cell_type": "markdown",
      "metadata": {
        "id": "JYy9Y2KvAaXf"
      },
      "source": [
        "\n",
        "\n",
        "---\n",
        "\n"
      ]
    },
    {
      "cell_type": "markdown",
      "metadata": {
        "id": "N2QgVArlAZeF"
      },
      "source": [
        "# **2. PyRosetta Workshop:**\n",
        "\n",
        "Here, you'll learn how to:\n",
        "\n",
        "*   **Load** a ligand into PyRosetta\n",
        "*   **Visualize** the actions of PyRosetta\n",
        "*   **Repack** residues\n",
        "*   **Mutate** residues\n",
        "*   **Create** your own schemes to mutate residues"
      ]
    },
    {
      "cell_type": "markdown",
      "metadata": {
        "id": "L0T9pTmDCXrU"
      },
      "source": [
        "####**2.1. Restart the runtime**\n",
        "\n",
        "  Find \"Runtime\" menu underneath the notebook title, next to \"Tools\"\n",
        "\n",
        "  Select \"Runtime -> Restart runtime\".\n",
        "\n",
        "  Make sure the runtime is set to Python 3.\n",
        "\n",
        "  Check using \"Runtime -> Check runtime type\".\n",
        "\n",
        "  (There is no Code Block #2.1.)"
      ]
    },
    {
      "cell_type": "markdown",
      "metadata": {
        "id": "iRo0D1srDLnu"
      },
      "source": [
        "####**2.2. Clone the PyRosetta_Tutorial_20420 folder**\n",
        "\n",
        "  Run Code Block #2.2.\n",
        "\n",
        "  Access Patrick Holec's github to retrieve the tutorial folder.\n",
        "\n",
        "  This folder contains the files necessary to complete the tutorial (e.g., PDB files)\n",
        "\n",
        "  **You only have to do this once!**\n",
        "\n",
        "  **Ignore this step in future uses of PyRosetta beyond this tutorial.**"
      ]
    },
    {
      "cell_type": "code",
      "metadata": {
        "id": "l8BB6liPnkDG",
        "colab": {
          "base_uri": "https://localhost:8080/"
        },
        "outputId": "d2f807d0-4b19-4e2b-a24b-55525cfb8bd9"
      },
      "source": [
        "# Code Block #2.2\n",
        "\n",
        "#into content folder of colaboratory, not in drive\n",
        "\n",
        "import os\n",
        "!git clone -b colab https://github.com/PatrickHolec/PyRosetta_Tutorial_20420\n",
        "os.chdir('PyRosetta_Tutorial_20420')"
      ],
      "execution_count": null,
      "outputs": [
        {
          "output_type": "stream",
          "name": "stdout",
          "text": [
            "Cloning into 'PyRosetta_Tutorial_20420'...\n",
            "remote: Enumerating objects: 95, done.\u001b[K\n",
            "remote: Total 95 (delta 0), reused 0 (delta 0), pack-reused 95\u001b[K\n",
            "Unpacking objects: 100% (95/95), done.\n"
          ]
        }
      ]
    },
    {
      "cell_type": "markdown",
      "metadata": {
        "id": "va4qrvHqlxoV"
      },
      "source": [
        "####**2.3. Load PyRosetta**"
      ]
    },
    {
      "cell_type": "code",
      "metadata": {
        "id": "CrEA8aDElurl",
        "colab": {
          "base_uri": "https://localhost:8080/"
        },
        "outputId": "ddeafb49-ba67-4015-9f95-3a0d6cd31dbb"
      },
      "source": [
        "# Code Block #2.3\n",
        "\n",
        "from pyrosetta import *\n",
        "from google.colab import files\n",
        "init()\n",
        "print('Done!')"
      ],
      "execution_count": null,
      "outputs": [
        {
          "output_type": "stream",
          "name": "stdout",
          "text": [
            "PyRosetta-4 2021 [Rosetta PyRosetta4.Release.python37.ubuntu 2021.35+release.4431687773b726f35231ba8b01a55096e3e13dfc 2021-09-03T09:39:28] retrieved from: http://www.pyrosetta.org\n",
            "(C) Copyright Rosetta Commons Member Institutions. Created in JHU by Sergey Lyskov and PyRosetta Team.\n",
            "core.init: Checking for fconfig files in pwd and ./rosetta/flags\n",
            "core.init: Rosetta version: PyRosetta4.Release.python37.ubuntu r295 2021.35+release.4431687773b 4431687773b726f35231ba8b01a55096e3e13dfc http://www.pyrosetta.org 2021-09-03T09:39:28\n",
            "core.init: command: PyRosetta -ex1 -ex2aro -database /usr/local/lib/python3.7/dist-packages/pyrosetta-2021.35+release.4431687773b-py3.7-linux-x86_64.egg/pyrosetta/database\n",
            "basic.random.init_random_generator: 'RNG device' seed mode, using '/dev/urandom', seed=-903524577 seed_offset=0 real_seed=-903524577\n",
            "basic.random.init_random_generator: RandomGenerator:init: Normal mode, seed=-903524577 RG_type=mt19937\n",
            "Done!\n"
          ]
        }
      ]
    },
    {
      "cell_type": "markdown",
      "metadata": {
        "id": "fupEQ_3E7hSj"
      },
      "source": [
        "####**2.4. Alter a Protein with Pyrosetta**\n",
        "\n",
        "  PyRosetta should be all set up now! **Every time you lose connection and restart a session in Colab, you will have to repeat steps, 1.1, 1.3, 1.4, 2.1, and 2.3** (and 2.2 if you want to use the .pdb and .mdl files from the \"Pyrosetta_Tutorial_20420\" folder). In your project colab files, you could make your own code block with \n",
        "\n",
        "  Follow the steps below and edit them to your satisfaction to make your own protein mutants!"
      ]
    },
    {
      "cell_type": "markdown",
      "metadata": {
        "id": "LVTBdArZ_32u"
      },
      "source": [
        "<h3> Upload a file </h3>\n",
        "\n",
        "\n"
      ]
    },
    {
      "cell_type": "code",
      "metadata": {
        "colab": {
          "base_uri": "https://localhost:8080/"
        },
        "id": "ybKMCng-_vSy",
        "outputId": "f1d5f345-3930-4f6c-a4b1-4700204203b7"
      },
      "source": [
        "import os\n",
        "# Set directory to where you saved molfile2params\n",
        "os.chdir('/content/drive/MyDrive/MIT/Biological Engineering/Coursework/Colab Notebooks')\n",
        "#Give permissions to Colab to access the code\n",
        "!chmod 755 -R '/content/drive/MyDrive/MIT/Biological Engineering/Coursework/Colab Notebooks/molfile2params/molfile_to_params_python3.py' \n",
        "# Replace pyrrolysine.mdl with your ligand.mdl\n",
        "!molfile2params/molfile_to_params_python3.py LIG.mdl --clobber"
      ],
      "execution_count": null,
      "outputs": [
        {
          "output_type": "stream",
          "name": "stdout",
          "text": [
            "Centering ligands at (  -0.000,    0.000,   -0.000)\n",
            "Atom names contain duplications -- renaming all atoms.\n",
            "Total naive charge -1.340, desired charge 0.000, offsetting all atoms by 0.052\n",
            "WARNING: fragment 1 has 26 total atoms including H; protein residues have 7 - 24 (DNA: 33)\n",
            "WARNING: fragment 1 has 11 rotatable bonds; protein residues have 0 - 4\n",
            "Average 26.0 atoms (12.0 non-H atoms) per fragment\n",
            "(Proteins average 15.5 atoms (7.8 non-H atoms) per residue)\n",
            "WARNING:  no root atom specified, using auto-selected NBR atom instead.\n",
            "WARNING: skipping extra samples for proton chis; would give 531441 conformers\n",
            "Wrote params file LG.params\n",
            "Wrote PDB file LG_0001.pdb\n"
          ]
        }
      ]
    },
    {
      "cell_type": "markdown",
      "metadata": {
        "id": "NA5iroHQlu-k"
      },
      "source": [
        "<h3> Now let's load a receptor-ligand pair </h3>\n"
      ]
    },
    {
      "cell_type": "markdown",
      "metadata": {
        "id": "17GMM6Sqlo37"
      },
      "source": [
        "<p> After running the next cell, you should be able to run any cell out of order in the rest of the presentation </p>"
      ]
    },
    {
      "cell_type": "code",
      "metadata": {
        "colab": {
          "base_uri": "https://localhost:8080/",
          "height": 232
        },
        "id": "swjVdn5OZaef",
        "outputId": "8f94b874-8820-41a8-b111-1daa8da8c46e"
      },
      "source": [
        "# Code Block #2.4.4\n",
        "\n",
        "# Load up the parameters\n",
        "params_list = ['LG.params']\n",
        "pose = Pose()\n",
        "generate_nonstandard_residue_set(pose, params_list)\n",
        "\n",
        "# Import your ligand-receptor pdb file \n",
        "pose_from_file(pose,'prosor.pdb')\n",
        "scorefxn = get_fa_scorefxn()\n",
        "scorefxn.show(pose)"
      ],
      "execution_count": null,
      "outputs": [
        {
          "output_type": "error",
          "ename": "NameError",
          "evalue": "ignored",
          "traceback": [
            "\u001b[0;31m---------------------------------------------------------------------------\u001b[0m",
            "\u001b[0;31mNameError\u001b[0m                                 Traceback (most recent call last)",
            "\u001b[0;32m<ipython-input-1-4d0883d64c0f>\u001b[0m in \u001b[0;36m<module>\u001b[0;34m()\u001b[0m\n\u001b[1;32m      3\u001b[0m \u001b[0;31m# Load up the parameters\u001b[0m\u001b[0;34m\u001b[0m\u001b[0;34m\u001b[0m\u001b[0;34m\u001b[0m\u001b[0m\n\u001b[1;32m      4\u001b[0m \u001b[0mparams_list\u001b[0m \u001b[0;34m=\u001b[0m \u001b[0;34m[\u001b[0m\u001b[0;34m'LG.params'\u001b[0m\u001b[0;34m]\u001b[0m\u001b[0;34m\u001b[0m\u001b[0;34m\u001b[0m\u001b[0m\n\u001b[0;32m----> 5\u001b[0;31m \u001b[0mpose\u001b[0m \u001b[0;34m=\u001b[0m \u001b[0mPose\u001b[0m\u001b[0;34m(\u001b[0m\u001b[0;34m)\u001b[0m\u001b[0;34m\u001b[0m\u001b[0;34m\u001b[0m\u001b[0m\n\u001b[0m\u001b[1;32m      6\u001b[0m \u001b[0mgenerate_nonstandard_residue_set\u001b[0m\u001b[0;34m(\u001b[0m\u001b[0mpose\u001b[0m\u001b[0;34m,\u001b[0m \u001b[0mparams_list\u001b[0m\u001b[0;34m)\u001b[0m\u001b[0;34m\u001b[0m\u001b[0;34m\u001b[0m\u001b[0m\n\u001b[1;32m      7\u001b[0m \u001b[0;34m\u001b[0m\u001b[0m\n",
            "\u001b[0;31mNameError\u001b[0m: name 'Pose' is not defined"
          ]
        }
      ]
    },
    {
      "cell_type": "markdown",
      "metadata": {
        "id": "FDrOJvMDnLy6"
      },
      "source": [
        "<h3> Let's repack some sidechains without making mutations </h3>\n",
        "<p> First, we're using a MinMover to find a local energy minimum. The mover is constrained by a MoveMap, which specifies the acceptable backbone angles it can explore. We use PyRosetta's full atom score function as a proxy for free energy of a structure.You can do other things, like manually change backbone angles (phi/psi), and swap rotamers (see PyRosetta Workshop 5 & 6 for more).\n",
        "  \n",
        " <br>Then we'll use a protocol from the Baker lab, FastRelax, that's probably better than anything we would write ourselves to repack sidechains and adjust backbone angles. It does take several minutes, though.\n",
        "</p>\n",
        "<p> FastRelax is described here: http://dx.doi.org/10.1016/j.jmb.2010.11.008\n",
        "</p>"
      ]
    },
    {
      "cell_type": "code",
      "metadata": {
        "id": "Pw61OkYVp9Q4",
        "colab": {
          "base_uri": "https://localhost:8080/"
        },
        "outputId": "58274b31-d069-4128-f60d-bb21ac61fe35"
      },
      "source": [
        "# Code Block #2.4.5\n",
        "\n",
        "min_mover = rosetta.protocols.minimization_packing.MinMover()\n",
        "move_map = MoveMap()\n",
        "move_map.set_bb_true_range(40,130)\n",
        "min_mover.movemap(move_map)\n",
        "min_mover.score_function(scorefxn)\n",
        "\n",
        "pose_min_move = Pose()\n",
        "pose_min_move.assign(pose)\n",
        "\n",
        "min_mover.apply(pose_min_move)\n",
        "\n",
        "print('Original Energy: %.2f' % scorefxn(pose))\n",
        "print('Energy after min_mover: %.2f' % scorefxn(pose_min_move))\n",
        "\n",
        "\n",
        "# More info about lots of movers and a GUI version of pyrosetta here: \n",
        "# http://dx.doi.org/10.1371/journal.pone.0066856"
      ],
      "execution_count": null,
      "outputs": [
        {
          "output_type": "stream",
          "name": "stdout",
          "text": [
            "Original Energy: -140.66\n",
            "Energy after min_mover: -214.97\n"
          ]
        }
      ]
    },
    {
      "cell_type": "code",
      "metadata": {
        "colab": {
          "base_uri": "https://localhost:8080/",
          "height": 17
        },
        "id": "S8_1ZaJ8Z4Jf",
        "outputId": "29967966-7aea-4d76-e028-611a0d7e061c"
      },
      "source": [
        "# Download minimized protein\n",
        "\n",
        "pose_min_move.dump_pdb('minprosor.pdb')\n",
        "files.download('minprosor.pdb')"
      ],
      "execution_count": null,
      "outputs": [
        {
          "output_type": "display_data",
          "data": {
            "application/javascript": [
              "\n",
              "    async function download(id, filename, size) {\n",
              "      if (!google.colab.kernel.accessAllowed) {\n",
              "        return;\n",
              "      }\n",
              "      const div = document.createElement('div');\n",
              "      const label = document.createElement('label');\n",
              "      label.textContent = `Downloading \"${filename}\": `;\n",
              "      div.appendChild(label);\n",
              "      const progress = document.createElement('progress');\n",
              "      progress.max = size;\n",
              "      div.appendChild(progress);\n",
              "      document.body.appendChild(div);\n",
              "\n",
              "      const buffers = [];\n",
              "      let downloaded = 0;\n",
              "\n",
              "      const channel = await google.colab.kernel.comms.open(id);\n",
              "      // Send a message to notify the kernel that we're ready.\n",
              "      channel.send({})\n",
              "\n",
              "      for await (const message of channel.messages) {\n",
              "        // Send a message to notify the kernel that we're ready.\n",
              "        channel.send({})\n",
              "        if (message.buffers) {\n",
              "          for (const buffer of message.buffers) {\n",
              "            buffers.push(buffer);\n",
              "            downloaded += buffer.byteLength;\n",
              "            progress.value = downloaded;\n",
              "          }\n",
              "        }\n",
              "      }\n",
              "      const blob = new Blob(buffers, {type: 'application/binary'});\n",
              "      const a = document.createElement('a');\n",
              "      a.href = window.URL.createObjectURL(blob);\n",
              "      a.download = filename;\n",
              "      div.appendChild(a);\n",
              "      a.click();\n",
              "      div.remove();\n",
              "    }\n",
              "  "
            ],
            "text/plain": [
              "<IPython.core.display.Javascript object>"
            ]
          },
          "metadata": {}
        },
        {
          "output_type": "display_data",
          "data": {
            "application/javascript": [
              "download(\"download_8d0adef8-4438-4a3d-a03b-28d1e3d402a9\", \"minprosor.pdb\", 407186)"
            ],
            "text/plain": [
              "<IPython.core.display.Javascript object>"
            ]
          },
          "metadata": {}
        }
      ]
    },
    {
      "cell_type": "markdown",
      "metadata": {
        "id": "7c7pyy39qVge"
      },
      "source": [
        "<h3> But we want to mutate residues, too! </h3>\n",
        "<p>\n",
        "For that, we'll use a Pack Mover. This uses simulated annealing and Metropolis/Monte Carlo to search for the best residue/rotamer.\n",
        "</p>"
      ]
    },
    {
      "cell_type": "code",
      "metadata": {
        "id": "UKl7veSbqYsX",
        "colab": {
          "base_uri": "https://localhost:8080/"
        },
        "outputId": "8001c291-55d1-4648-b2e5-52a0b39e630f"
      },
      "source": [
        "# Code Block #2.4.7\n",
        "\n",
        "pose_pack_mover = Pose()\n",
        "pose_pack_mover.assign(pose)\n",
        "pose_pack_mover.pdb_info().name('pack_mover')\n",
        "\n",
        "task = standard_packer_task(pose_pack_mover)\n",
        "task.temporarily_fix_everything()\n",
        "task.temporarily_set_pack_residue(50, True)\n",
        "task.temporarily_set_pack_residue(61, True)\n",
        "task.temporarily_set_pack_residue(63, True)\n",
        "task.temporarily_set_pack_residue(64, True)\n",
        "task.temporarily_set_pack_residue(89, True)\n",
        "task.temporarily_set_pack_residue(113, True)\n",
        "task.temporarily_set_pack_residue(137, True)\n",
        "task.temporarily_set_pack_residue(178, True)\n",
        "task.temporarily_set_pack_residue(181, True)\n",
        "task.temporarily_set_pack_residue(183, True)\n",
        "task.temporarily_set_pack_residue(184, True)\n",
        "task.temporarily_set_pack_residue(187, True)\n",
        "task.temporarily_set_pack_residue(212, True)\n",
        "task.temporarily_set_pack_residue(242, True)\n",
        "task.temporarily_set_pack_residue(243, True)\n",
        "task.temporarily_set_pack_residue(267, True)\n",
        "task.temporarily_set_pack_residue(268, True)\n",
        "task.temporarily_set_pack_residue(290, True)\n",
        "\n",
        "pack_mover = rosetta.protocols.minimization_packing.PackRotamersMover(scorefxn, task)\n",
        "\n",
        "pack_mover.apply(pose_pack_mover)\n",
        "\n",
        "print('Original Score: %s' % scorefxn(pose))\n",
        "print('Score after mutating residues: %s' % scorefxn(pose_pack_mover))"
      ],
      "execution_count": null,
      "outputs": [
        {
          "output_type": "stream",
          "name": "stdout",
          "text": [
            "core.pack.task: Packer task: initialize from command line()\n",
            "core.pack.pack_rotamers: built 5182 rotamers at 18 positions.\n",
            "core.pack.interaction_graph.interaction_graph_factory: Instantiating PDInteractionGraph\n",
            "Original Score: -140.66486234243547\n",
            "Score after mutating residues: -178.02964183197446\n"
          ]
        }
      ]
    },
    {
      "cell_type": "markdown",
      "metadata": {
        "id": "CQKctYE9qbDH"
      },
      "source": [
        "<h3> What if we want more control over the design? </h3>\n",
        "<p> Then we use \"resfiles.\" In these, you can define which atoms are allowed to be mutated, and what mutations are allowed. So, you can restrict a polar residue to other polar residues, if that's important (maybe you're modifying an enzyme and want it to still be functional)\n",
        " <br><br>\n",
        "The default value for all residues in new resfile is NATRO<br>\n",
        "<ul>\n",
        "<li> NATRO - NATive ROtamer (no mutation, no repacking)<br>\n",
        "<li> NATAA - NATive AminoAcid (no mutation, repacking )<br>\n",
        "<li> PIKAA STNQ - PIcK Amino Acids STNQ (mutation and repacking to defined residues-- these don't have to be STNQ)<br>\n",
        "<li> ALLAA - ALL Amino Acids (All amino acids, all repacking)<br>\n",
        "</p>\n"
      ]
    },
    {
      "cell_type": "code",
      "metadata": {
        "id": "A_saYWBeqcfn"
      },
      "source": [
        "# Code Block #2.4.8\n",
        "\n",
        "save_resfile_filter = pyrosetta.rosetta.protocols.simple_filters.SaveResfileToDiskFilter()\n",
        "save_resfile_filter.resfile_name('my.resfile')\n",
        "all_resis = save_resfile_filter.selected_resis()\n",
        "for r in range(1, pose.total_residue() + 1):\n",
        "  all_resis.append(r)\n",
        "save_resfile_filter.selected_resis_property('NATRO')\n",
        "save_resfile_filter.write_resfile(pose, all_resis)\n",
        "!cat 'my.resfile'\n",
        "\n",
        "# We can also download the file to manually edit in a text editor.\n",
        "# files.download('my.resfile')"
      ],
      "execution_count": null,
      "outputs": []
    },
    {
      "cell_type": "markdown",
      "metadata": {
        "id": "o0AMHz-1qf5p"
      },
      "source": [
        "<h4>Editing the resfile </h4>\n",
        "<p>\n",
        "Let's limit S89, S101, S123, S139, S147  to uncharged polar residues (STNQ)\n",
        "<br>\n",
        "\n",
        "</p>"
      ]
    },
    {
      "cell_type": "code",
      "metadata": {
        "id": "U5KkWjNDqiKy"
      },
      "source": [
        "# Code Block #2.4.9\n",
        "\n",
        "res_to_mutate = [63, 64, 137, 181, 184]\n",
        "chain = 'A'\n",
        "\n",
        "with open('my.resfile') as file:\n",
        "  with open('new.resfile','w+') as newfile:\n",
        "    for line in file:\n",
        "      try:\n",
        "        if int(line[:4].strip()) in res_to_mutate:\n",
        "          newline = list(line)\n",
        "          i = line.find(chain)\n",
        "          newline[i + 2:] = list('ALLAA\\n')\n",
        "          newfile.write(\"\".join(newline))\n",
        "        else:\n",
        "          newfile.write(line)\n",
        "      except ValueError:\n",
        "        newfile.write(line)\n",
        "        \n",
        "!cat 'new.resfile'\n"
      ],
      "execution_count": null,
      "outputs": []
    },
    {
      "cell_type": "markdown",
      "metadata": {
        "id": "yMd5Zr6jqVBy"
      },
      "source": [
        "<h3> Sequences </h3>\n",
        "<p>\n",
        "Let's string together multiple movers as we change those 5 residues.\n",
        "</p>"
      ]
    },
    {
      "cell_type": "code",
      "metadata": {
        "id": "-beASQzGpdK-",
        "colab": {
          "base_uri": "https://localhost:8080/",
          "height": 663
        },
        "outputId": "1fb31b9d-9f19-40e7-f4fe-f85b99784b54"
      },
      "source": [
        "# Code Block #2.4.10\n",
        "\n",
        "pose_pack_mover = Pose()\n",
        "pose_pack_mover.assign(pose)\n",
        "pose_pack_mover.pdb_info().name('defined_pack_mover')\n",
        "\n",
        "kT = 1.0\n",
        "mc = MonteCarlo(pose_pack_mover, scorefxn, kT)\n",
        "\n",
        "for i in range(11):\n",
        "    task = rosetta.core.pack.task.TaskFactory.create_packer_task(pose_pack_mover)\n",
        "    rosetta.core.pack.task.parse_resfile(pose_pack_mover, task, 'new.resfile')\n",
        "    packer_task = rosetta.protocols.minimization_packing.PackRotamersMover(scorefxn, task)\n",
        "\n",
        "    min_mover = rosetta.protocols.minimization_packing.MinMover()\n",
        "    mm70150 = MoveMap()\n",
        "    mm70150.set_bb_true_range(70, 150)\n",
        "    min_mover.movemap(mm70150)\n",
        "    min_mover.score_function(scorefxn)\n",
        "\n",
        "    seq_mover = SequenceMover()\n",
        "    seq_mover.add_mover(packer_task)\n",
        "    seq_mover.add_mover(min_mover)\n",
        "\n",
        "    trial_pack_min_mover = TrialMover(seq_mover, mc)\n",
        "\n",
        "    trial_pack_min_mover.apply(pose_pack_mover)\n",
        "    print('Score: %s' % scorefxn(pose_pack_mover))\n",
        "\n",
        "# What are the residues now?\n",
        "print(pose_pack_mover.residue(63).name())\n",
        "print(pose_pack_mover.residue(64).name())\n",
        "print(pose_pack_mover.residue(137).name())\n",
        "print(pose_pack_mover.residue(181).name())\n",
        "print(pose_pack_mover.residue(184).name())\n",
        "\n",
        "pose_pack_mover.dump_pdb('finprosor.pdb')\n",
        "files.download('finprosor.pdb')"
      ],
      "execution_count": null,
      "outputs": [
        {
          "output_type": "stream",
          "name": "stdout",
          "text": [
            "core.pack.pack_rotamers: built 497 rotamers at 5 positions.\n",
            "core.pack.interaction_graph.interaction_graph_factory: Instantiating PDInteractionGraph\n",
            "Score: -222.46479950286252\n",
            "core.pack.pack_rotamers: built 509 rotamers at 5 positions.\n",
            "core.pack.interaction_graph.interaction_graph_factory: Instantiating PDInteractionGraph\n",
            "Score: -224.3106954207604\n",
            "core.pack.pack_rotamers: built 508 rotamers at 5 positions.\n",
            "core.pack.interaction_graph.interaction_graph_factory: Instantiating PDInteractionGraph\n",
            "Score: -224.75331083117842\n",
            "core.pack.pack_rotamers: built 510 rotamers at 5 positions.\n",
            "core.pack.interaction_graph.interaction_graph_factory: Instantiating PDInteractionGraph\n",
            "Score: -224.785228591257\n",
            "core.pack.pack_rotamers: built 509 rotamers at 5 positions.\n",
            "core.pack.interaction_graph.interaction_graph_factory: Instantiating PDInteractionGraph\n",
            "Score: -224.7899859391805\n",
            "core.pack.pack_rotamers: built 510 rotamers at 5 positions.\n",
            "core.pack.interaction_graph.interaction_graph_factory: Instantiating PDInteractionGraph\n",
            "Score: -224.79511872238396\n",
            "core.pack.pack_rotamers: built 509 rotamers at 5 positions.\n",
            "core.pack.interaction_graph.interaction_graph_factory: Instantiating PDInteractionGraph\n",
            "Score: -224.7967514068797\n",
            "core.pack.pack_rotamers: built 510 rotamers at 5 positions.\n",
            "core.pack.interaction_graph.interaction_graph_factory: Instantiating PDInteractionGraph\n",
            "Score: -224.797721058859\n",
            "core.pack.pack_rotamers: built 510 rotamers at 5 positions.\n",
            "core.pack.interaction_graph.interaction_graph_factory: Instantiating PDInteractionGraph\n",
            "Score: -224.79863793061156\n",
            "core.pack.pack_rotamers: built 510 rotamers at 5 positions.\n",
            "core.pack.interaction_graph.interaction_graph_factory: Instantiating PDInteractionGraph\n",
            "Score: -224.79952257666133\n",
            "core.pack.pack_rotamers: built 510 rotamers at 5 positions.\n",
            "core.pack.interaction_graph.interaction_graph_factory: Instantiating PDInteractionGraph\n",
            "Score: -224.80038170950328\n",
            "LYS\n",
            "PRO\n",
            "TYR\n",
            "VAL\n",
            "ILE\n"
          ]
        },
        {
          "output_type": "display_data",
          "data": {
            "application/javascript": [
              "\n",
              "    async function download(id, filename, size) {\n",
              "      if (!google.colab.kernel.accessAllowed) {\n",
              "        return;\n",
              "      }\n",
              "      const div = document.createElement('div');\n",
              "      const label = document.createElement('label');\n",
              "      label.textContent = `Downloading \"${filename}\": `;\n",
              "      div.appendChild(label);\n",
              "      const progress = document.createElement('progress');\n",
              "      progress.max = size;\n",
              "      div.appendChild(progress);\n",
              "      document.body.appendChild(div);\n",
              "\n",
              "      const buffers = [];\n",
              "      let downloaded = 0;\n",
              "\n",
              "      const channel = await google.colab.kernel.comms.open(id);\n",
              "      // Send a message to notify the kernel that we're ready.\n",
              "      channel.send({})\n",
              "\n",
              "      for await (const message of channel.messages) {\n",
              "        // Send a message to notify the kernel that we're ready.\n",
              "        channel.send({})\n",
              "        if (message.buffers) {\n",
              "          for (const buffer of message.buffers) {\n",
              "            buffers.push(buffer);\n",
              "            downloaded += buffer.byteLength;\n",
              "            progress.value = downloaded;\n",
              "          }\n",
              "        }\n",
              "      }\n",
              "      const blob = new Blob(buffers, {type: 'application/binary'});\n",
              "      const a = document.createElement('a');\n",
              "      a.href = window.URL.createObjectURL(blob);\n",
              "      a.download = filename;\n",
              "      div.appendChild(a);\n",
              "      a.click();\n",
              "      div.remove();\n",
              "    }\n",
              "  "
            ],
            "text/plain": [
              "<IPython.core.display.Javascript object>"
            ]
          },
          "metadata": {}
        },
        {
          "output_type": "display_data",
          "data": {
            "application/javascript": [
              "download(\"download_0cbf8c44-d7fd-4272-8a18-1473de041eee\", \"finprosor.pdb\", 406757)"
            ],
            "text/plain": [
              "<IPython.core.display.Javascript object>"
            ]
          },
          "metadata": {}
        }
      ]
    },
    {
      "cell_type": "markdown",
      "metadata": {
        "id": "cdDEuDqVqlK7"
      },
      "source": [
        "<h4> RepeatMover (may be buggy, for example with PackMover)</h4>\n",
        "<p> I'd just use a for loop instead, but here's an example using one </p>\n",
        "<h4> Finally, let's download a pdb file of our altered protein.</h4>\n",
        "<p>We can visualize our efforts by loading this file in PyMol. </p>"
      ]
    },
    {
      "cell_type": "code",
      "metadata": {
        "id": "u23UKHCgqm1i",
        "colab": {
          "base_uri": "https://localhost:8080/",
          "height": 232
        },
        "outputId": "c8f8c136-8fc4-4143-81bd-e175e7ba42a4"
      },
      "source": [
        "# Code Block #2.4.11\n",
        "\n",
        "# Repeat Mover Example\n",
        "\n",
        "pose_repeat_small_mover = Pose()\n",
        "pose_repeat_small_mover.assign(pose)\n",
        "pose_repeat_small_mover.pdb_info().name('repeat_small_mover')\n",
        "\n",
        "kT = 1.0\n",
        "movemap = MoveMap()\n",
        "movemap.set_bb(True)\n",
        "small_mover = rosetta.protocols.simple_moves.SmallMover(movemap, kT, 1)\n",
        "\n",
        "mc = MonteCarlo(pose_repeat_small_mover, scorefxn, kT)\n",
        "trial_mover = TrialMover(small_mover, mc)\n",
        "\n",
        "n = 20\n",
        "repeat_mover = RepeatMover(trial_mover, n)\n",
        "\n",
        "repeat_mover.apply(pose_repeat_small_mover)\n",
        "\n",
        "print('original: %s' % scorefxn(pose))\n",
        "print('new: %s' % scorefxn(pose_repeat_small_mover))\n"
      ],
      "execution_count": null,
      "outputs": [
        {
          "output_type": "error",
          "ename": "NameError",
          "evalue": "ignored",
          "traceback": [
            "\u001b[0;31m---------------------------------------------------------------------------\u001b[0m",
            "\u001b[0;31mNameError\u001b[0m                                 Traceback (most recent call last)",
            "\u001b[0;32m<ipython-input-1-2db3302871b5>\u001b[0m in \u001b[0;36m<module>\u001b[0;34m()\u001b[0m\n\u001b[1;32m      3\u001b[0m \u001b[0;31m# Repeat Mover Example\u001b[0m\u001b[0;34m\u001b[0m\u001b[0;34m\u001b[0m\u001b[0;34m\u001b[0m\u001b[0m\n\u001b[1;32m      4\u001b[0m \u001b[0;34m\u001b[0m\u001b[0m\n\u001b[0;32m----> 5\u001b[0;31m \u001b[0mpose_repeat_small_mover\u001b[0m \u001b[0;34m=\u001b[0m \u001b[0mPose\u001b[0m\u001b[0;34m(\u001b[0m\u001b[0;34m)\u001b[0m\u001b[0;34m\u001b[0m\u001b[0;34m\u001b[0m\u001b[0m\n\u001b[0m\u001b[1;32m      6\u001b[0m \u001b[0mpose_repeat_small_mover\u001b[0m\u001b[0;34m.\u001b[0m\u001b[0massign\u001b[0m\u001b[0;34m(\u001b[0m\u001b[0mpose\u001b[0m\u001b[0;34m)\u001b[0m\u001b[0;34m\u001b[0m\u001b[0;34m\u001b[0m\u001b[0m\n\u001b[1;32m      7\u001b[0m \u001b[0mpose_repeat_small_mover\u001b[0m\u001b[0;34m.\u001b[0m\u001b[0mpdb_info\u001b[0m\u001b[0;34m(\u001b[0m\u001b[0;34m)\u001b[0m\u001b[0;34m.\u001b[0m\u001b[0mname\u001b[0m\u001b[0;34m(\u001b[0m\u001b[0;34m'repeat_small_mover'\u001b[0m\u001b[0;34m)\u001b[0m\u001b[0;34m\u001b[0m\u001b[0;34m\u001b[0m\u001b[0m\n",
            "\u001b[0;31mNameError\u001b[0m: name 'Pose' is not defined"
          ]
        }
      ]
    },
    {
      "cell_type": "markdown",
      "metadata": {
        "id": "PvIcoJOCqL5-"
      },
      "source": [
        "<h3> Now let's check out FastRelax </h3>"
      ]
    },
    {
      "cell_type": "code",
      "metadata": {
        "id": "uoN6z92hqOPk",
        "colab": {
          "base_uri": "https://localhost:8080/"
        },
        "outputId": "380c50d5-b991-4735-91ec-589b6813e40d"
      },
      "source": [
        "# Code Block #2.4.6\n",
        "\n",
        "fast_relax =rosetta.protocols.relax.FastRelax()\n",
        "fast_relax.set_scorefxn(scorefxn)\n",
        "\n",
        "pose_fast_relax = Pose()\n",
        "pose_fast_relax.assign(pose)\n",
        "fast_relax.apply(pose_fast_relax)\n",
        "\n",
        "print('Original Energy: %.2f' % scorefxn(pose))\n",
        "print('Energy after fast relax: %.2f' % scorefxn(pose_fast_relax))"
      ],
      "execution_count": null,
      "outputs": [
        {
          "output_type": "stream",
          "name": "stdout",
          "text": [
            "protocols.relax.RelaxScriptManager: Reading relax scripts list from database.\n",
            "core.scoring.ScoreFunctionFactory: SCOREFUNCTION: ref2015\n",
            "protocols.relax.RelaxScriptManager: Looking for MonomerRelax2019.txt\n",
            "protocols.relax.RelaxScriptManager: ================== Reading script file: /usr/local/lib/python3.7/dist-packages/pyrosetta-2021.35+release.4431687773b-py3.7-linux-x86_64.egg/pyrosetta/database/sampling/relax_scripts/MonomerRelax2019.txt ==================\n",
            "protocols.relax.RelaxScriptManager: repeat %%nrepeats%%\n",
            "protocols.relax.RelaxScriptManager: coord_cst_weight 1.0\n",
            "protocols.relax.RelaxScriptManager: scale:fa_rep 0.040\n",
            "protocols.relax.RelaxScriptManager: repack\n",
            "protocols.relax.RelaxScriptManager: scale:fa_rep 0.051\n",
            "protocols.relax.RelaxScriptManager: min 0.01\n",
            "protocols.relax.RelaxScriptManager: coord_cst_weight 0.5\n",
            "protocols.relax.RelaxScriptManager: scale:fa_rep 0.265\n",
            "protocols.relax.RelaxScriptManager: repack\n",
            "protocols.relax.RelaxScriptManager: scale:fa_rep 0.280\n",
            "protocols.relax.RelaxScriptManager: min 0.01\n",
            "protocols.relax.RelaxScriptManager: coord_cst_weight 0.0\n",
            "protocols.relax.RelaxScriptManager: scale:fa_rep 0.559\n",
            "protocols.relax.RelaxScriptManager: repack\n",
            "protocols.relax.RelaxScriptManager: scale:fa_rep 0.581\n",
            "protocols.relax.RelaxScriptManager: min 0.01\n",
            "protocols.relax.RelaxScriptManager: coord_cst_weight 0.0\n",
            "protocols.relax.RelaxScriptManager: scale:fa_rep 1\n",
            "protocols.relax.RelaxScriptManager: repack\n",
            "protocols.relax.RelaxScriptManager: min 0.00001\n",
            "protocols.relax.RelaxScriptManager: accept_to_best\n",
            "protocols.relax.RelaxScriptManager: endrepeat\n",
            "protocols.relax.FastRelax: CMD: repeat  -140.665  0  0  0.55\n",
            "protocols.relax.FastRelax: CMD: coord_cst_weight  -140.665  0  0  0.55\n",
            "protocols.relax.FastRelax: CMD: scale:fa_rep  -312.438  0  0  0.022\n",
            "core.pack.task: Packer task: initialize from command line()\n",
            "core.pack.rotamer_set.RotamerSet_: Using simple Rotamer generation logic for LG1\n",
            "core.pack.pack_rotamers: built 9197 rotamers at 295 positions.\n",
            "core.pack.interaction_graph.interaction_graph_factory: Instantiating DensePDInteractionGraph\n",
            "protocols.relax.FastRelax: CMD: repack  -790.102  0  0  0.022\n",
            "protocols.relax.FastRelax: CMD: scale:fa_rep  -779.923  0  0  0.02805\n",
            "protocols.relax.FastRelax: CMD: min  -1301.28  1.09235  1.09235  0.02805\n",
            "protocols.relax.FastRelax: CMD: coord_cst_weight  -1301.28  1.09235  1.09235  0.02805\n",
            "protocols.relax.FastRelax: CMD: scale:fa_rep  -693.655  1.09235  1.09235  0.14575\n",
            "core.pack.task: Packer task: initialize from command line()\n",
            "core.pack.rotamer_set.RotamerSet_: Using simple Rotamer generation logic for LG1\n",
            "core.pack.pack_rotamers: built 8635 rotamers at 295 positions.\n",
            "core.pack.interaction_graph.interaction_graph_factory: Instantiating DensePDInteractionGraph\n",
            "protocols.relax.FastRelax: CMD: repack  -724.717  1.09235  1.09235  0.14575\n",
            "protocols.relax.FastRelax: CMD: scale:fa_rep  -686.558  1.09235  1.09235  0.154\n",
            "protocols.relax.FastRelax: CMD: min  -1042.58  0.733614  0.733614  0.154\n",
            "protocols.relax.FastRelax: CMD: coord_cst_weight  -1042.58  0.733614  0.733614  0.154\n",
            "protocols.relax.FastRelax: CMD: scale:fa_rep  -855.442  0.733614  0.733614  0.30745\n",
            "core.pack.task: Packer task: initialize from command line()\n",
            "core.pack.rotamer_set.RotamerSet_: Using simple Rotamer generation logic for LG1\n",
            "core.pack.pack_rotamers: built 8311 rotamers at 295 positions.\n",
            "core.pack.interaction_graph.interaction_graph_factory: Instantiating DensePDInteractionGraph\n",
            "protocols.relax.FastRelax: CMD: repack  -857.367  0.733614  0.733614  0.30745\n",
            "protocols.relax.FastRelax: CMD: scale:fa_rep  -842.815  0.733614  0.733614  0.31955\n",
            "protocols.relax.FastRelax: CMD: min  -887.221  0.613766  0.613766  0.31955\n",
            "protocols.relax.FastRelax: CMD: coord_cst_weight  -887.221  0.613766  0.613766  0.31955\n",
            "protocols.relax.FastRelax: CMD: scale:fa_rep  -706.797  0.613766  0.613766  0.55\n",
            "core.pack.task: Packer task: initialize from command line()\n",
            "core.pack.rotamer_set.RotamerSet_: Using simple Rotamer generation logic for LG1\n",
            "core.pack.pack_rotamers: built 8110 rotamers at 295 positions.\n",
            "core.pack.interaction_graph.interaction_graph_factory: Instantiating DensePDInteractionGraph\n",
            "protocols.relax.FastRelax: CMD: repack  -707.358  0.613766  0.613766  0.55\n",
            "protocols.relax.FastRelax: CMD: min  -767.944  0.511685  0.511685  0.55\n",
            "protocols.relax.FastRelax: MRP: 0  -767.944  -767.944  0.511685  0.511685\n",
            "protocols.relax.FastRelax: CMD: accept_to_best  -767.944  0.511685  0.511685  0.55\n",
            "protocols.relax.FastRelax: CMD: endrepeat  -767.944  0.511685  0.511685  0.55\n",
            "protocols.relax.FastRelax: CMD: coord_cst_weight  -767.944  0.511685  0.511685  0.55\n",
            "protocols.relax.FastRelax: CMD: scale:fa_rep  -1029.55  0.511685  0.511685  0.022\n",
            "core.pack.task: Packer task: initialize from command line()\n",
            "core.pack.rotamer_set.RotamerSet_: Using simple Rotamer generation logic for LG1\n",
            "core.pack.pack_rotamers: built 9444 rotamers at 295 positions.\n",
            "core.pack.interaction_graph.interaction_graph_factory: Instantiating DensePDInteractionGraph\n",
            "protocols.relax.FastRelax: CMD: repack  -1052.83  0.511685  0.511685  0.022\n",
            "protocols.relax.FastRelax: CMD: scale:fa_rep  -1047.25  0.511685  0.511685  0.02805\n",
            "protocols.relax.FastRelax: CMD: min  -1328.24  1.16135  1.16135  0.02805\n",
            "protocols.relax.FastRelax: CMD: coord_cst_weight  -1328.24  1.16135  1.16135  0.02805\n",
            "protocols.relax.FastRelax: CMD: scale:fa_rep  -712.071  1.16135  1.16135  0.14575\n",
            "core.pack.task: Packer task: initialize from command line()\n",
            "core.pack.rotamer_set.RotamerSet_: Using simple Rotamer generation logic for LG1\n",
            "core.pack.pack_rotamers: built 8624 rotamers at 295 positions.\n",
            "core.pack.interaction_graph.interaction_graph_factory: Instantiating DensePDInteractionGraph\n",
            "protocols.relax.FastRelax: CMD: repack  -743.202  1.16135  1.16135  0.14575\n",
            "protocols.relax.FastRelax: CMD: scale:fa_rep  -704.26  1.16135  1.16135  0.154\n",
            "protocols.relax.FastRelax: CMD: min  -1054.63  0.755542  0.755542  0.154\n",
            "protocols.relax.FastRelax: CMD: coord_cst_weight  -1054.63  0.755542  0.755542  0.154\n",
            "protocols.relax.FastRelax: CMD: scale:fa_rep  -865.697  0.755542  0.755542  0.30745\n",
            "core.pack.task: Packer task: initialize from command line()\n",
            "core.pack.rotamer_set.RotamerSet_: Using simple Rotamer generation logic for LG1\n",
            "core.pack.pack_rotamers: built 8245 rotamers at 295 positions.\n",
            "core.pack.interaction_graph.interaction_graph_factory: Instantiating DensePDInteractionGraph\n",
            "protocols.relax.FastRelax: CMD: repack  -867.6  0.755542  0.755542  0.30745\n",
            "protocols.relax.FastRelax: CMD: scale:fa_rep  -852.926  0.755542  0.755542  0.31955\n",
            "protocols.relax.FastRelax: CMD: min  -901.168  0.643815  0.643815  0.31955\n",
            "protocols.relax.FastRelax: CMD: coord_cst_weight  -901.168  0.643815  0.643815  0.31955\n",
            "protocols.relax.FastRelax: CMD: scale:fa_rep  -722.322  0.643815  0.643815  0.55\n",
            "core.pack.task: Packer task: initialize from command line()\n",
            "core.pack.rotamer_set.RotamerSet_: Using simple Rotamer generation logic for LG1\n",
            "core.pack.pack_rotamers: built 8046 rotamers at 295 positions.\n",
            "core.pack.interaction_graph.interaction_graph_factory: Instantiating DensePDInteractionGraph\n",
            "protocols.relax.FastRelax: CMD: repack  -723.537  0.643815  0.643815  0.55\n",
            "protocols.relax.FastRelax: CMD: min  -780.433  0.619378  0.619378  0.55\n",
            "protocols.relax.FastRelax: MRP: 1  -780.433  -780.433  0.619378  0.619378\n",
            "protocols.relax.FastRelax: CMD: accept_to_best  -780.433  0.619378  0.619378  0.55\n",
            "protocols.relax.FastRelax: CMD: endrepeat  -780.433  0.619378  0.619378  0.55\n",
            "protocols.relax.FastRelax: CMD: coord_cst_weight  -780.433  0.619378  0.619378  0.55\n",
            "protocols.relax.FastRelax: CMD: scale:fa_rep  -1045.74  0.619378  0.619378  0.022\n",
            "core.pack.task: Packer task: initialize from command line()\n",
            "core.pack.rotamer_set.RotamerSet_: Using simple Rotamer generation logic for LG1\n",
            "core.pack.pack_rotamers: built 9270 rotamers at 295 positions.\n",
            "core.pack.interaction_graph.interaction_graph_factory: Instantiating DensePDInteractionGraph\n",
            "protocols.relax.FastRelax: CMD: repack  -1065.66  0.619378  0.619378  0.022\n",
            "protocols.relax.FastRelax: CMD: scale:fa_rep  -1060.26  0.619378  0.619378  0.02805\n",
            "protocols.relax.FastRelax: CMD: min  -1331.26  1.17739  1.17739  0.02805\n",
            "protocols.relax.FastRelax: CMD: coord_cst_weight  -1331.26  1.17739  1.17739  0.02805\n",
            "protocols.relax.FastRelax: CMD: scale:fa_rep  -739.142  1.17739  1.17739  0.14575\n",
            "core.pack.task: Packer task: initialize from command line()\n",
            "core.pack.rotamer_set.RotamerSet_: Using simple Rotamer generation logic for LG1\n",
            "core.pack.pack_rotamers: built 8581 rotamers at 295 positions.\n",
            "core.pack.interaction_graph.interaction_graph_factory: Instantiating DensePDInteractionGraph\n",
            "protocols.relax.FastRelax: CMD: repack  -769.685  1.17739  1.17739  0.14575\n",
            "protocols.relax.FastRelax: CMD: scale:fa_rep  -732.035  1.17739  1.17739  0.154\n",
            "protocols.relax.FastRelax: CMD: min  -1062.04  0.765567  0.765567  0.154\n",
            "protocols.relax.FastRelax: CMD: coord_cst_weight  -1062.04  0.765567  0.765567  0.154\n",
            "protocols.relax.FastRelax: CMD: scale:fa_rep  -874.978  0.765567  0.765567  0.30745\n",
            "core.pack.task: Packer task: initialize from command line()\n",
            "core.pack.rotamer_set.RotamerSet_: Using simple Rotamer generation logic for LG1\n",
            "core.pack.pack_rotamers: built 8261 rotamers at 295 positions.\n",
            "core.pack.interaction_graph.interaction_graph_factory: Instantiating DensePDInteractionGraph\n",
            "protocols.relax.FastRelax: CMD: repack  -875.512  0.765567  0.765567  0.30745\n",
            "protocols.relax.FastRelax: CMD: scale:fa_rep  -861.015  0.765567  0.765567  0.31955\n",
            "protocols.relax.FastRelax: CMD: min  -906.554  0.66232  0.66232  0.31955\n",
            "protocols.relax.FastRelax: CMD: coord_cst_weight  -906.554  0.66232  0.66232  0.31955\n",
            "protocols.relax.FastRelax: CMD: scale:fa_rep  -731.435  0.66232  0.66232  0.55\n",
            "core.pack.task: Packer task: initialize from command line()\n",
            "core.pack.rotamer_set.RotamerSet_: Using simple Rotamer generation logic for LG1\n",
            "core.pack.pack_rotamers: built 7977 rotamers at 295 positions.\n",
            "core.pack.interaction_graph.interaction_graph_factory: Instantiating DensePDInteractionGraph\n",
            "protocols.relax.FastRelax: CMD: repack  -731.9  0.66232  0.66232  0.55\n",
            "protocols.relax.FastRelax: CMD: min  -780.342  0.611398  0.611398  0.55\n",
            "protocols.relax.FastRelax: MRP: 2  -780.342  -780.433  0.619378  0.619378\n",
            "protocols.relax.FastRelax: CMD: accept_to_best  -780.342  0.611398  0.611398  0.55\n",
            "protocols.relax.FastRelax: CMD: endrepeat  -780.342  0.611398  0.611398  0.55\n",
            "protocols.relax.FastRelax: CMD: coord_cst_weight  -780.342  0.611398  0.611398  0.55\n",
            "protocols.relax.FastRelax: CMD: scale:fa_rep  -1046.5  0.611398  0.611398  0.022\n",
            "core.pack.task: Packer task: initialize from command line()\n",
            "core.pack.rotamer_set.RotamerSet_: Using simple Rotamer generation logic for LG1\n",
            "core.pack.pack_rotamers: built 9255 rotamers at 295 positions.\n",
            "core.pack.interaction_graph.interaction_graph_factory: Instantiating DensePDInteractionGraph\n",
            "protocols.relax.FastRelax: CMD: repack  -1065.27  0.611398  0.611398  0.022\n",
            "protocols.relax.FastRelax: CMD: scale:fa_rep  -1059.39  0.611398  0.611398  0.02805\n",
            "protocols.relax.FastRelax: CMD: min  -1334.43  1.20093  1.20093  0.02805\n",
            "protocols.relax.FastRelax: CMD: coord_cst_weight  -1334.43  1.20093  1.20093  0.02805\n",
            "protocols.relax.FastRelax: CMD: scale:fa_rep  -723.142  1.20093  1.20093  0.14575\n",
            "core.pack.task: Packer task: initialize from command line()\n",
            "core.pack.rotamer_set.RotamerSet_: Using simple Rotamer generation logic for LG1\n",
            "core.pack.pack_rotamers: built 8651 rotamers at 295 positions.\n",
            "core.pack.interaction_graph.interaction_graph_factory: Instantiating DensePDInteractionGraph\n",
            "protocols.relax.FastRelax: CMD: repack  -738.49  1.20093  1.20093  0.14575\n",
            "protocols.relax.FastRelax: CMD: scale:fa_rep  -699.873  1.20093  1.20093  0.154\n",
            "protocols.relax.FastRelax: CMD: min  -1060.91  0.807136  0.807136  0.154\n",
            "protocols.relax.FastRelax: CMD: coord_cst_weight  -1060.91  0.807136  0.807136  0.154\n",
            "protocols.relax.FastRelax: CMD: scale:fa_rep  -872.561  0.807136  0.807136  0.30745\n",
            "core.pack.task: Packer task: initialize from command line()\n",
            "core.pack.rotamer_set.RotamerSet_: Using simple Rotamer generation logic for LG1\n",
            "core.pack.pack_rotamers: built 8387 rotamers at 295 positions.\n",
            "core.pack.interaction_graph.interaction_graph_factory: Instantiating DensePDInteractionGraph\n",
            "protocols.relax.FastRelax: CMD: repack  -873.153  0.807136  0.807136  0.30745\n",
            "protocols.relax.FastRelax: CMD: scale:fa_rep  -858.554  0.807136  0.807136  0.31955\n",
            "protocols.relax.FastRelax: CMD: min  -905.129  0.70271  0.70271  0.31955\n",
            "protocols.relax.FastRelax: CMD: coord_cst_weight  -905.129  0.70271  0.70271  0.31955\n",
            "protocols.relax.FastRelax: CMD: scale:fa_rep  -727.984  0.70271  0.70271  0.55\n",
            "core.pack.task: Packer task: initialize from command line()\n",
            "core.pack.rotamer_set.RotamerSet_: Using simple Rotamer generation logic for LG1\n",
            "core.pack.pack_rotamers: built 8030 rotamers at 295 positions.\n",
            "core.pack.interaction_graph.interaction_graph_factory: Instantiating DensePDInteractionGraph\n",
            "protocols.relax.FastRelax: CMD: repack  -728.377  0.70271  0.70271  0.55\n",
            "protocols.relax.FastRelax: CMD: min  -777.433  0.652461  0.652461  0.55\n",
            "protocols.relax.FastRelax: MRP: 3  -777.433  -780.433  0.619378  0.619378\n",
            "protocols.relax.FastRelax: CMD: accept_to_best  -777.433  0.652461  0.652461  0.55\n",
            "protocols.relax.FastRelax: CMD: endrepeat  -777.433  0.652461  0.652461  0.55\n",
            "protocols.relax.FastRelax: CMD: coord_cst_weight  -777.433  0.652461  0.652461  0.55\n",
            "protocols.relax.FastRelax: CMD: scale:fa_rep  -1047.72  0.652461  0.652461  0.022\n",
            "core.pack.task: Packer task: initialize from command line()\n",
            "core.pack.rotamer_set.RotamerSet_: Using simple Rotamer generation logic for LG1\n",
            "core.pack.pack_rotamers: built 9441 rotamers at 295 positions.\n",
            "core.pack.interaction_graph.interaction_graph_factory: Instantiating DensePDInteractionGraph\n",
            "protocols.relax.FastRelax: CMD: repack  -1068.38  0.652461  0.652461  0.022\n",
            "protocols.relax.FastRelax: CMD: scale:fa_rep  -1063.09  0.652461  0.652461  0.02805\n",
            "protocols.relax.FastRelax: CMD: min  -1337.32  1.23823  1.23823  0.02805\n",
            "protocols.relax.FastRelax: CMD: coord_cst_weight  -1337.32  1.23823  1.23823  0.02805\n",
            "protocols.relax.FastRelax: CMD: scale:fa_rep  -722.672  1.23823  1.23823  0.14575\n",
            "core.pack.task: Packer task: initialize from command line()\n",
            "core.pack.rotamer_set.RotamerSet_: Using simple Rotamer generation logic for LG1\n",
            "core.pack.pack_rotamers: built 8628 rotamers at 295 positions.\n",
            "core.pack.interaction_graph.interaction_graph_factory: Instantiating DensePDInteractionGraph\n",
            "protocols.relax.FastRelax: CMD: repack  -750.579  1.23823  1.23823  0.14575\n",
            "protocols.relax.FastRelax: CMD: scale:fa_rep  -711.633  1.23823  1.23823  0.154\n",
            "protocols.relax.FastRelax: CMD: min  -1063.57  0.836218  0.836218  0.154\n",
            "protocols.relax.FastRelax: CMD: coord_cst_weight  -1063.57  0.836218  0.836218  0.154\n",
            "protocols.relax.FastRelax: CMD: scale:fa_rep  -874.465  0.836218  0.836218  0.30745\n",
            "core.pack.task: Packer task: initialize from command line()\n",
            "core.pack.rotamer_set.RotamerSet_: Using simple Rotamer generation logic for LG1\n",
            "core.pack.pack_rotamers: built 8291 rotamers at 295 positions.\n",
            "core.pack.interaction_graph.interaction_graph_factory: Instantiating DensePDInteractionGraph\n",
            "protocols.relax.FastRelax: CMD: repack  -876.213  0.836218  0.836218  0.30745\n",
            "protocols.relax.FastRelax: CMD: scale:fa_rep  -861.588  0.836218  0.836218  0.31955\n",
            "protocols.relax.FastRelax: CMD: min  -908.057  0.699899  0.699899  0.31955\n",
            "protocols.relax.FastRelax: CMD: coord_cst_weight  -908.057  0.699899  0.699899  0.31955\n",
            "protocols.relax.FastRelax: CMD: scale:fa_rep  -732.451  0.699899  0.699899  0.55\n",
            "core.pack.task: Packer task: initialize from command line()\n",
            "core.pack.rotamer_set.RotamerSet_: Using simple Rotamer generation logic for LG1\n",
            "core.pack.pack_rotamers: built 7951 rotamers at 295 positions.\n",
            "core.pack.interaction_graph.interaction_graph_factory: Instantiating DensePDInteractionGraph\n",
            "protocols.relax.FastRelax: CMD: repack  -732.801  0.699899  0.699899  0.55\n",
            "protocols.relax.FastRelax: CMD: min  -778.085  0.641572  0.641572  0.55\n",
            "protocols.relax.FastRelax: MRP: 4  -778.085  -780.433  0.619378  0.619378\n",
            "protocols.relax.FastRelax: CMD: accept_to_best  -778.085  0.641572  0.641572  0.55\n",
            "protocols.relax.FastRelax: CMD: endrepeat  -778.085  0.641572  0.641572  0.55\n",
            "protocols::checkpoint: Deleting checkpoints of FastRelax\n",
            "Original Energy: -140.66\n",
            "Energy after fast relax: -780.43\n"
          ]
        }
      ]
    },
    {
      "cell_type": "code",
      "metadata": {
        "colab": {
          "base_uri": "https://localhost:8080/",
          "height": 17
        },
        "id": "u8nG0HkRVvcK",
        "outputId": "28e7a865-2eea-44cd-8d9c-20cc9ada8db9"
      },
      "source": [
        "pose_fast_relax.dump_pdb('fastprosor.pdb')\n",
        "files.download('fastprosor.pdb')"
      ],
      "execution_count": null,
      "outputs": [
        {
          "output_type": "display_data",
          "data": {
            "application/javascript": [
              "\n",
              "    async function download(id, filename, size) {\n",
              "      if (!google.colab.kernel.accessAllowed) {\n",
              "        return;\n",
              "      }\n",
              "      const div = document.createElement('div');\n",
              "      const label = document.createElement('label');\n",
              "      label.textContent = `Downloading \"${filename}\": `;\n",
              "      div.appendChild(label);\n",
              "      const progress = document.createElement('progress');\n",
              "      progress.max = size;\n",
              "      div.appendChild(progress);\n",
              "      document.body.appendChild(div);\n",
              "\n",
              "      const buffers = [];\n",
              "      let downloaded = 0;\n",
              "\n",
              "      const channel = await google.colab.kernel.comms.open(id);\n",
              "      // Send a message to notify the kernel that we're ready.\n",
              "      channel.send({})\n",
              "\n",
              "      for await (const message of channel.messages) {\n",
              "        // Send a message to notify the kernel that we're ready.\n",
              "        channel.send({})\n",
              "        if (message.buffers) {\n",
              "          for (const buffer of message.buffers) {\n",
              "            buffers.push(buffer);\n",
              "            downloaded += buffer.byteLength;\n",
              "            progress.value = downloaded;\n",
              "          }\n",
              "        }\n",
              "      }\n",
              "      const blob = new Blob(buffers, {type: 'application/binary'});\n",
              "      const a = document.createElement('a');\n",
              "      a.href = window.URL.createObjectURL(blob);\n",
              "      a.download = filename;\n",
              "      div.appendChild(a);\n",
              "      a.click();\n",
              "      div.remove();\n",
              "    }\n",
              "  "
            ],
            "text/plain": [
              "<IPython.core.display.Javascript object>"
            ]
          },
          "metadata": {}
        },
        {
          "output_type": "display_data",
          "data": {
            "application/javascript": [
              "download(\"download_5831d67a-724a-4ad8-9037-b6d8d4c78857\", \"fastprosor.pdb\", 407486)"
            ],
            "text/plain": [
              "<IPython.core.display.Javascript object>"
            ]
          },
          "metadata": {}
        }
      ]
    },
    {
      "cell_type": "markdown",
      "metadata": {
        "id": "sDbPuTzgqT-N"
      },
      "source": [
        "<h3> Fast Relax dramatically decreases the energy </h3>\n",
        "<p> I'm not sure if this is true, but I think you could make almost any mutation, run FastRelax, and find a structure that is lower energy than your starting structure. So, you might want to start by running FastRelax to get a baseline for your protein. You could output the WT FastRelaxed protein and use it as your starting structure.\n",
        "</p>"
      ]
    },
    {
      "cell_type": "markdown",
      "metadata": {
        "id": "u7CsTfreqpKj"
      },
      "source": [
        "# **3. Review**\n",
        "<p> Here's what you've done so far: </p>\n",
        "<ul>\n",
        "    <li> <b> Loaded a PDB file </b> into PyRosetta\n",
        "    <li> <b>Generated PyRosetta parameters </b>for a non-standard ligand, using Babel and mol2params.py\n",
        "    <li> <b>Repacked and refined Structures </b> using MinMover and FastRelax\n",
        "    <li> <b> Mutated residues </b> using a PackMover\n",
        "    <li> <b> Made your own routines </b> using Sequence and TrialMovers that accept movements based on a Metropolis criterion\n",
        "     <li> <b> Downloaded a PDB file </b> that can be visualized and shared\n",
        "</ul>"
      ]
    },
    {
      "cell_type": "markdown",
      "metadata": {
        "id": "cD_AzHYrqq0D"
      },
      "source": [
        "<h1> What you can look to improve? </h1>\n",
        "<ul>\n",
        "<li>Can the conformation of your ligand change?\n",
        "<li>What's a good routine for mutating residues? Why?\n",
        "<li>What's happening to secondary structure during these movements?\n",
        "<li>Hydrogen bonds?\n",
        "<li>How do you know when to stop mutating/changing?\n",
        "<li>What sort of pretty plots could you generate to show what's going on here? (both with PyMol and without)\n",
        "</ul>"
      ]
    }
  ]
}